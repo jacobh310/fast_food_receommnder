{
 "cells": [
  {
   "cell_type": "code",
   "execution_count": 3,
   "metadata": {},
   "outputs": [],
   "source": [
    "import pandas as pd \n",
    "import numpy as np\n",
    "import matplotlib.pyplot as plt \n",
    "import seaborn as sns \n",
    "import findspark\n",
    "findspark.init()\n",
    "from pyspark.sql import SparkSession"
   ]
  },
  {
   "cell_type": "code",
   "execution_count": 4,
   "metadata": {},
   "outputs": [],
   "source": [
    "spark = SparkSession.builder.master(\"local[2]\").appName('recommendation').getOrCreate()"
   ]
  },
  {
   "cell_type": "code",
   "execution_count": 5,
   "metadata": {},
   "outputs": [],
   "source": [
    "la = pd.read_csv(\"../scraper/la_restaurant.csv\")\n",
    "sd = pd.read_csv('../scraper/san_diego_restaurant.csv')\n",
    "df = la.append(sd)"
   ]
  },
  {
   "cell_type": "markdown",
   "metadata": {},
   "source": [
    "# Data Cleaning, Wrangling and Prepping"
   ]
  },
  {
   "cell_type": "code",
   "execution_count": 6,
   "metadata": {},
   "outputs": [],
   "source": [
    "df['rating'] = df['rating']/10\n",
    "df = df[~df['restaurant'].str.contains('http')]"
   ]
  },
  {
   "cell_type": "markdown",
   "metadata": {},
   "source": [
    "### Cleaning rating, user, and restuarant data for ALS"
   ]
  },
  {
   "cell_type": "code",
   "execution_count": 7,
   "metadata": {},
   "outputs": [],
   "source": [
    "from pyspark.sql.functions import monotonically_increasing_id, col, avg"
   ]
  },
  {
   "cell_type": "code",
   "execution_count": 8,
   "metadata": {},
   "outputs": [],
   "source": [
    "df_spark = spark.createDataFrame(df)"
   ]
  },
  {
   "cell_type": "code",
   "execution_count": 9,
   "metadata": {
    "scrolled": true
   },
   "outputs": [
    {
     "name": "stdout",
     "output_type": "stream",
     "text": [
      "+------------+------+--------------------+-------------+---------------+\n",
      "|   user_name|rating|              review|         date|     restaurant|\n",
      "+------------+------+--------------------+-------------+---------------+\n",
      "|       Ray M|   5.0|My wife and I sto...|   March 2021|In-N-Out Burger|\n",
      "|      Judy G|   5.0|We are at a time ...|   April 2020|In-N-Out Burger|\n",
      "|  11dragon64|   5.0|A staple of our f...|   March 2020|In-N-Out Burger|\n",
      "|      Yenyok|   4.0|The best Burger i...|February 2020|In-N-Out Burger|\n",
      "|Comanderkody|   3.0|Went to the one o...|February 2020|In-N-Out Burger|\n",
      "+------------+------+--------------------+-------------+---------------+\n",
      "only showing top 5 rows\n",
      "\n"
     ]
    }
   ],
   "source": [
    "df_spark.show(5)"
   ]
  },
  {
   "cell_type": "code",
   "execution_count": 10,
   "metadata": {},
   "outputs": [],
   "source": [
    "users = df_spark.select('user_name').distinct()\n",
    "users = users.coalesce(1)\n",
    "users = users.withColumn(\"user_id\", monotonically_increasing_id()).persist()"
   ]
  },
  {
   "cell_type": "code",
   "execution_count": 11,
   "metadata": {
    "scrolled": true
   },
   "outputs": [
    {
     "name": "stdout",
     "output_type": "stream",
     "text": [
      "+-----------+-------+\n",
      "|  user_name|user_id|\n",
      "+-----------+-------+\n",
      "|MarkLBoston|      0|\n",
      "|  tripledec|      1|\n",
      "|    TashW35|      2|\n",
      "|   Rjcestra|      3|\n",
      "|   Norman S|      4|\n",
      "+-----------+-------+\n",
      "only showing top 5 rows\n",
      "\n"
     ]
    }
   ],
   "source": [
    "users.show(5)"
   ]
  },
  {
   "cell_type": "code",
   "execution_count": 12,
   "metadata": {
    "scrolled": true
   },
   "outputs": [
    {
     "name": "stdout",
     "output_type": "stream",
     "text": [
      "+--------------------+-------+\n",
      "|          restaurant|rest_id|\n",
      "+--------------------+-------+\n",
      "|      Randy's Donuts|      0|\n",
      "|         Stack Shack|      1|\n",
      "|      RoRo's Chicken|      2|\n",
      "|Top Round Roast Beef|      3|\n",
      "|    Daddy's Hot Dogs|      4|\n",
      "+--------------------+-------+\n",
      "only showing top 5 rows\n",
      "\n"
     ]
    }
   ],
   "source": [
    "rest = df_spark.select('restaurant').distinct()\n",
    "rest = rest.coalesce(1)\n",
    "rest = rest.withColumn('rest_id', monotonically_increasing_id()).persist()\n",
    "rest.show(5)"
   ]
  },
  {
   "cell_type": "code",
   "execution_count": 13,
   "metadata": {
    "scrolled": true
   },
   "outputs": [
    {
     "name": "stdout",
     "output_type": "stream",
     "text": [
      "+-------+-------+------+\n",
      "|user_id|rest_id|rating|\n",
      "+-------+-------+------+\n",
      "|   5897|     58|   5.0|\n",
      "|   4304|     58|   5.0|\n",
      "|  13731|     58|   5.0|\n",
      "|  12620|     58|   4.0|\n",
      "|   9601|     58|   3.0|\n",
      "+-------+-------+------+\n",
      "only showing top 5 rows\n",
      "\n"
     ]
    }
   ],
   "source": [
    "df_ids = df_spark.join(users,\"user_name\",\"left\").join(rest,'restaurant','left')\n",
    "final_df = df_ids.select(col('user_id'), col('rest_id'),col('rating'))\n",
    "final_df.show(5)"
   ]
  },
  {
   "cell_type": "code",
   "execution_count": 14,
   "metadata": {},
   "outputs": [],
   "source": [
    "final_df = final_df.groupBy(['user_id','rest_id']).avg()\n",
    "final_df = final_df.select(col('user_id'), col('rest_id'),col('avg(rating)').alias('rating'))"
   ]
  },
  {
   "cell_type": "code",
   "execution_count": 15,
   "metadata": {
    "scrolled": true
   },
   "outputs": [
    {
     "data": {
      "text/plain": [
       "22209"
      ]
     },
     "execution_count": 15,
     "metadata": {},
     "output_type": "execute_result"
    }
   ],
   "source": [
    "final_df.count()"
   ]
  },
  {
   "cell_type": "code",
   "execution_count": 56,
   "metadata": {},
   "outputs": [],
   "source": [
    "users_spark = final_df.groupBy('user_id').count().filter(col('count')>=3).select('user_id')\n",
    "users_spark_list = list(users_spark.toPandas()['user_id'])"
   ]
  },
  {
   "cell_type": "code",
   "execution_count": 61,
   "metadata": {
    "scrolled": true
   },
   "outputs": [],
   "source": [
    "final_df = final_df[final_df.user_id.isin(users_spark_list)]"
   ]
  },
  {
   "cell_type": "code",
   "execution_count": 16,
   "metadata": {
    "scrolled": true
   },
   "outputs": [
    {
     "data": {
      "text/plain": [
       "(828,)"
      ]
     },
     "execution_count": 16,
     "metadata": {},
     "output_type": "execute_result"
    }
   ],
   "source": [
    "user_ratings = df.groupby(by=['user_name','restaurant'])['rating'].mean().to_frame().reset_index()\n",
    "user_review_counts = user_ratings['user_name'].value_counts()\n",
    "users = user_review_counts[user_review_counts>=3].index\n",
    "users.shape"
   ]
  },
  {
   "cell_type": "code",
   "execution_count": 60,
   "metadata": {
    "scrolled": false
   },
   "outputs": [
    {
     "data": {
      "text/html": [
       "<div>\n",
       "<style scoped>\n",
       "    .dataframe tbody tr th:only-of-type {\n",
       "        vertical-align: middle;\n",
       "    }\n",
       "\n",
       "    .dataframe tbody tr th {\n",
       "        vertical-align: top;\n",
       "    }\n",
       "\n",
       "    .dataframe thead th {\n",
       "        text-align: right;\n",
       "    }\n",
       "</style>\n",
       "<table border=\"1\" class=\"dataframe\">\n",
       "  <thead>\n",
       "    <tr style=\"text-align: right;\">\n",
       "      <th></th>\n",
       "      <th>user_name</th>\n",
       "      <th>restaurant</th>\n",
       "      <th>rating</th>\n",
       "    </tr>\n",
       "  </thead>\n",
       "  <tbody>\n",
       "    <tr>\n",
       "      <th>3</th>\n",
       "      <td>0221Serendipity</td>\n",
       "      <td>In-N-Out Burger</td>\n",
       "      <td>5.0</td>\n",
       "    </tr>\n",
       "    <tr>\n",
       "      <th>4</th>\n",
       "      <td>0221Serendipity</td>\n",
       "      <td>The Original Farmer's Market</td>\n",
       "      <td>5.0</td>\n",
       "    </tr>\n",
       "    <tr>\n",
       "      <th>5</th>\n",
       "      <td>0221Serendipity</td>\n",
       "      <td>Wetzel's Pretzels</td>\n",
       "      <td>4.0</td>\n",
       "    </tr>\n",
       "    <tr>\n",
       "      <th>84</th>\n",
       "      <td>162greigs</td>\n",
       "      <td>City Tacos</td>\n",
       "      <td>5.0</td>\n",
       "    </tr>\n",
       "    <tr>\n",
       "      <th>85</th>\n",
       "      <td>162greigs</td>\n",
       "      <td>Cotija's Mexican Food</td>\n",
       "      <td>4.0</td>\n",
       "    </tr>\n",
       "    <tr>\n",
       "      <th>...</th>\n",
       "      <td>...</td>\n",
       "      <td>...</td>\n",
       "      <td>...</td>\n",
       "    </tr>\n",
       "    <tr>\n",
       "      <th>22089</th>\n",
       "      <td>wvillamil</td>\n",
       "      <td>Zankou Chicken</td>\n",
       "      <td>3.0</td>\n",
       "    </tr>\n",
       "    <tr>\n",
       "      <th>22149</th>\n",
       "      <td>yorkie1552</td>\n",
       "      <td>Cafe Socrates</td>\n",
       "      <td>3.0</td>\n",
       "    </tr>\n",
       "    <tr>\n",
       "      <th>22150</th>\n",
       "      <td>yorkie1552</td>\n",
       "      <td>Eggslut</td>\n",
       "      <td>5.0</td>\n",
       "    </tr>\n",
       "    <tr>\n",
       "      <th>22151</th>\n",
       "      <td>yorkie1552</td>\n",
       "      <td>Panda Express</td>\n",
       "      <td>3.0</td>\n",
       "    </tr>\n",
       "    <tr>\n",
       "      <th>22152</th>\n",
       "      <td>yorkie1552</td>\n",
       "      <td>Shake Shack</td>\n",
       "      <td>5.0</td>\n",
       "    </tr>\n",
       "  </tbody>\n",
       "</table>\n",
       "<p>3301 rows × 3 columns</p>\n",
       "</div>"
      ],
      "text/plain": [
       "             user_name                    restaurant  rating\n",
       "3      0221Serendipity               In-N-Out Burger     5.0\n",
       "4      0221Serendipity  The Original Farmer's Market     5.0\n",
       "5      0221Serendipity             Wetzel's Pretzels     4.0\n",
       "84           162greigs                    City Tacos     5.0\n",
       "85           162greigs         Cotija's Mexican Food     4.0\n",
       "...                ...                           ...     ...\n",
       "22089        wvillamil                Zankou Chicken     3.0\n",
       "22149       yorkie1552                 Cafe Socrates     3.0\n",
       "22150       yorkie1552                       Eggslut     5.0\n",
       "22151       yorkie1552                 Panda Express     3.0\n",
       "22152       yorkie1552                   Shake Shack     5.0\n",
       "\n",
       "[3301 rows x 3 columns]"
      ]
     },
     "execution_count": 60,
     "metadata": {},
     "output_type": "execute_result"
    }
   ],
   "source": [
    "user_ratings[user_ratings['user_name'].isin(users)]"
   ]
  },
  {
   "cell_type": "markdown",
   "metadata": {},
   "source": [
    "## Exploratory Data Analysis\n",
    "---\n",
    "### 1) Numerical Data "
   ]
  },
  {
   "cell_type": "markdown",
   "metadata": {},
   "source": [
    "### Ratings descriptive statistics across all restaurants"
   ]
  },
  {
   "cell_type": "code",
   "execution_count": 17,
   "metadata": {
    "scrolled": true
   },
   "outputs": [
    {
     "data": {
      "text/plain": [
       "count    22810.000000\n",
       "mean         4.266769\n",
       "std          0.945851\n",
       "min          1.000000\n",
       "25%          4.000000\n",
       "50%          5.000000\n",
       "75%          5.000000\n",
       "max          5.000000\n",
       "Name: rating, dtype: float64"
      ]
     },
     "execution_count": 17,
     "metadata": {},
     "output_type": "execute_result"
    }
   ],
   "source": [
    "df['rating'].describe()"
   ]
  },
  {
   "cell_type": "markdown",
   "metadata": {},
   "source": [
    "### The amount of reviews per restuarant"
   ]
  },
  {
   "cell_type": "code",
   "execution_count": 18,
   "metadata": {
    "scrolled": false
   },
   "outputs": [
    {
     "data": {
      "text/plain": [
       "count     323.000000\n",
       "mean       70.619195\n",
       "std       180.450301\n",
       "min         1.000000\n",
       "25%        14.000000\n",
       "50%        23.000000\n",
       "75%        56.500000\n",
       "max      2303.000000\n",
       "Name: restaurant, dtype: float64"
      ]
     },
     "execution_count": 18,
     "metadata": {},
     "output_type": "execute_result"
    }
   ],
   "source": [
    "df['restaurant'].value_counts().describe()"
   ]
  },
  {
   "cell_type": "code",
   "execution_count": 19,
   "metadata": {
    "scrolled": false
   },
   "outputs": [
    {
     "data": {
      "image/png": "[encoded data removed]",
      "text/plain": [
       "<Figure size 936x360 with 2 Axes>"
      ]
     },
     "metadata": {
      "needs_background": "light"
     },
     "output_type": "display_data"
    }
   ],
   "source": [
    "review_counts = df['restaurant'].value_counts()\n",
    "\n",
    "\n",
    "fig, axes = plt.subplots(nrows=1,ncols=2, figsize=(13,5))\n",
    "axes[0].hist(df['rating'])\n",
    "axes[0].set_title('Ratings Distribution')\n",
    "axes[0].set_ylabel('Number of Ratings')\n",
    "axes[0].set_xlabel('Rating')\n",
    "\n",
    "axes[1].hist(review_counts, bins=18)\n",
    "axes[1].set_title('Review Counts Distribution')\n",
    "axes[1].set_ylabel('Number of Restaurants')\n",
    "axes[1].set_xlabel('Number of Reviews')\n",
    "\n",
    "\n",
    "plt.show()"
   ]
  },
  {
   "cell_type": "markdown",
   "metadata": {},
   "source": [
    "- Ratings and review counts are skewd to the left. The average rating is is a 4.26 while the max is a 5. More popular restuarants get the majority of the reviews. This is confirmed by the the mean for review counts by restaurant is 70 despite a 56 count being the 75th percentile. 75 percent of restuarants have less than 75 percent of total reviews."
   ]
  },
  {
   "cell_type": "markdown",
   "metadata": {},
   "source": [
    "### 2) Categorical Plots"
   ]
  },
  {
   "cell_type": "code",
   "execution_count": 20,
   "metadata": {
    "scrolled": true
   },
   "outputs": [],
   "source": [
    "avg_rating_restaurant = df.groupby('restaurant')['rating'].mean()"
   ]
  },
  {
   "cell_type": "code",
   "execution_count": 21,
   "metadata": {},
   "outputs": [],
   "source": [
    "top_by_count = df['restaurant'].value_counts().head(20)\n"
   ]
  },
  {
   "cell_type": "code",
   "execution_count": 22,
   "metadata": {},
   "outputs": [
    {
     "data": {
      "image/png": "[encoded data removed]",
      "text/plain": [
       "<Figure size 432x288 with 1 Axes>"
      ]
     },
     "metadata": {
      "needs_background": "light"
     },
     "output_type": "display_data"
    }
   ],
   "source": [
    "avg_rating_restaurant[top_by_count.index].plot.bar()\n",
    "plt.title('Average Rating per Most Reviewed Fast Food Restaurant')\n",
    "plt.ylabel('Average Rating')\n",
    "plt.show()"
   ]
  },
  {
   "cell_type": "code",
   "execution_count": 23,
   "metadata": {},
   "outputs": [
    {
     "data": {
      "image/png": "[encoded data removed]",
      "text/plain": [
       "<Figure size 432x288 with 1 Axes>"
      ]
     },
     "metadata": {
      "needs_background": "light"
     },
     "output_type": "display_data"
    }
   ],
   "source": [
    "top_by_count.plot.bar()\n",
    "plt.title('Number of Reviews Per Most Reviewed Restaurant')\n",
    "plt.ylabel('Count')\n",
    "plt.show()"
   ]
  },
  {
   "cell_type": "markdown",
   "metadata": {},
   "source": [
    "# ALS"
   ]
  },
  {
   "cell_type": "code",
   "execution_count": 62,
   "metadata": {},
   "outputs": [],
   "source": [
    "from pyspark.ml.recommendation import ALS\n",
    "from pyspark.ml.evaluation import RegressionEvaluator\n",
    "from pyspark.ml.tuning import ParamGridBuilder, CrossValidator\n",
    "\n",
    "(train,test) = final_df.randomSplit([0.8,0.2])\n",
    "\n",
    "als = ALS(userCol=\"user_id\" , itemCol=\"rest_id\", ratingCol=\"rating\",coldStartStrategy=\"drop\",\n",
    "          nonnegative = True, implicitPrefs = False) \n",
    "\n",
    "\n",
    "param_grid = ParamGridBuilder().addGrid(als.rank,[5,10,20]).addGrid(als.maxIter, [5,10,15]).addGrid(als.regParam, [.05, .1, 1.5]).build()\n",
    "\n",
    "evaluator = RegressionEvaluator(metricName='rmse',labelCol='rating',predictionCol='prediction')\n",
    "\n",
    "cv = CrossValidator(estimator = als, estimatorParamMaps = param_grid, evaluator = evaluator, numFolds = 5)\n",
    "\n",
    "model = cv.fit(train)\n"
   ]
  },
  {
   "cell_type": "code",
   "execution_count": 35,
   "metadata": {},
   "outputs": [],
   "source": [
    "best = model.bestModel\n",
    "predictions = best.transform(test)\n",
    "rmse = evaluator.evaluate(predictions)"
   ]
  },
  {
   "cell_type": "code",
   "execution_count": 36,
   "metadata": {},
   "outputs": [
    {
     "data": {
      "text/plain": [
       "1.6133981857927955"
      ]
     },
     "execution_count": 36,
     "metadata": {},
     "output_type": "execute_result"
    }
   ],
   "source": [
    "rmse"
   ]
  },
  {
   "cell_type": "code",
   "execution_count": 63,
   "metadata": {},
   "outputs": [],
   "source": [
    "best2 = model.bestModel\n",
    "predictions2 = best2.transform(test)\n",
    "rmse = evaluator.evaluate(predictions2)"
   ]
  },
  {
   "cell_type": "code",
   "execution_count": 64,
   "metadata": {},
   "outputs": [
    {
     "data": {
      "text/plain": [
       "1.2647357331114306"
      ]
     },
     "execution_count": 64,
     "metadata": {},
     "output_type": "execute_result"
    }
   ],
   "source": [
    "rmse"
   ]
  },
  {
   "cell_type": "code",
   "execution_count": null,
   "metadata": {},
   "outputs": [],
   "source": []
  }
 ],
 "metadata": {
  "kernelspec": {
   "display_name": "Python 3",
   "language": "python",
   "name": "python3"
  },
  "language_info": {
   "codemirror_mode": {
    "name": "ipython",
    "version": 3
   },
   "file_extension": ".py",
   "mimetype": "text/x-python",
   "name": "python",
   "nbconvert_exporter": "python",
   "pygments_lexer": "ipython3",
   "version": "3.8.5"
  }
 },
 "nbformat": 4,
 "nbformat_minor": 4
}
